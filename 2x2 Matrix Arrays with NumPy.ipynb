{
 "cells": [
  {
   "cell_type": "markdown",
   "id": "88e10145",
   "metadata": {},
   "source": [
    "# 2x2 Matrix Inversion with NumPy"
   ]
  },
  {
   "cell_type": "markdown",
   "id": "435ec3ed",
   "metadata": {},
   "source": [
    "**Author:**  [Christopher Mathews](https://twitter.com/Paxenterra)\n",
    "\n",
    "**Date:** 15.01.2022\n",
    "\n",
    "**Last Update**: 15.01.2022\n",
    "***"
   ]
  },
  {
   "cell_type": "markdown",
   "id": "468e46d4",
   "metadata": {},
   "source": [
    "## Introduction"
   ]
  },
  {
   "cell_type": "markdown",
   "id": "f2404e66",
   "metadata": {},
   "source": [
    "An inverse matrix is useful for solving problems involving the dividing of matrix values; unlike multiplacation, division of matrices is not possible. Similar to number recipricals: $ 4\\; reciprical $ can be written $ \\frac{1}{4}\\; or \\; 4^{-1} $. Matrices alternatively have inverse values, $ A, A^{1} $ which can be used for extracting out the divided values by means of multiplication by inverse; a very nearly solution where division is not possible.\n",
    "\n",
    "In this notebook, we will explore how to use the NumPy library to create a matrix, determine if it can be inverted, code the preparation work for inversing a matrix, and then check our results against know properties of matrix inversions."
   ]
  },
  {
   "cell_type": "markdown",
   "id": "a8267748",
   "metadata": {},
   "source": [
    "### Exploring the 2 x 2 matrix"
   ]
  },
  {
   "cell_type": "markdown",
   "id": "01c78844",
   "metadata": {},
   "source": [
    "Below is a theoretical 2x2 square matrix. "
   ]
  },
  {
   "cell_type": "markdown",
   "id": "10725f6a",
   "metadata": {},
   "source": [
    "$ A = \\begin{matrix} \n",
    "a & b\\\\\n",
    "c & d\n",
    "\\end{matrix} $"
   ]
  },
  {
   "cell_type": "markdown",
   "id": "a11d11e3",
   "metadata": {},
   "source": [
    "Not all matrices can be inversed. \n",
    "\n",
    "Inverse hesitant matricies are known as singular, their compliant counterparts are known binarily as non-singular. We classify the matrix in either category by calculating the determinent. \n",
    "\n",
    "Below we see $ given $ matrix $ A $, the determinent indicates what we look for in order to make a classification. "
   ]
  },
  {
   "cell_type": "markdown",
   "id": "2a3c1747",
   "metadata": {},
   "source": [
    ">$ Given\\: \\det(A) \\neq 0 $ *then* $ A $ is a non-singular matrix and **can** be inversed.\n",
    "\n",
    "***OR***\n",
    "\n",
    ">$ Given\\: \\det(A) = $ *then* $ A $ is a singular matrix and **cannot** be inversed."
   ]
  },
  {
   "cell_type": "markdown",
   "id": "75beb34f",
   "metadata": {},
   "source": [
    "$ Given\\: \\det(A) = $ *then* $ A $ is a singular matrix and **cannot** be inversed."
   ]
  },
  {
   "cell_type": "markdown",
   "id": "70c5e37f",
   "metadata": {},
   "source": [
    "\n"
   ]
  },
  {
   "cell_type": "markdown",
   "id": "41615094",
   "metadata": {},
   "source": [
    "### Using NumPy to build the matrix"
   ]
  },
  {
   "cell_type": "markdown",
   "id": "8d20e819",
   "metadata": {},
   "source": [
    "<div class=\"alert alert-block alert-info\"> <b>NOTE</b> NumPy .matrix method docs reccomends using narray even instead of the .matrix method, as the class maybe removed. </div>"
   ]
  },
  {
   "cell_type": "code",
   "execution_count": 1,
   "id": "e606ba14",
   "metadata": {},
   "outputs": [
    {
     "name": "stdout",
     "output_type": "stream",
     "text": [
      "[[2.  0.5]\n",
      " [1.  0. ]]\n",
      "Matrix \"A\" is a square, with dimensions: (2, 2)\n"
     ]
    }
   ],
   "source": [
    "import numpy as np\n",
    "#numpy array can be build using list of lists.\n",
    "a = np.array([[2,0.5], [1,0]])\n",
    "print(a)\n",
    "#Observe the dimensions\n",
    "print('Matrix \"A\" is a square, with dimensions:', a.shape)"
   ]
  },
  {
   "cell_type": "markdown",
   "id": "5a1e2133",
   "metadata": {},
   "source": [
    "### Working out the determinent"
   ]
  },
  {
   "cell_type": "markdown",
   "id": "a81dae7f",
   "metadata": {},
   "source": [
    "The formula for working out if the derminent is 0 in the example below is $ ad - bc $"
   ]
  },
  {
   "cell_type": "markdown",
   "id": "e085c58c",
   "metadata": {},
   "source": [
    "$ \\det (A) = \\begin{vmatrix}\n",
    "a & b\\\\\n",
    "c & d\n",
    "\\end{vmatrix}(a\\times d)-(b\\times c) $"
   ]
  },
  {
   "cell_type": "code",
   "execution_count": 2,
   "id": "a93d3b18",
   "metadata": {},
   "outputs": [
    {
     "name": "stdout",
     "output_type": "stream",
     "text": [
      "-0.5\n",
      "Matrix 'A' is a non-singular and **can** be inversed.\n"
     ]
    }
   ],
   "source": [
    "#using our array let's work the determinent out manually first.\n",
    "det = (a[0,0] * a[1,1])-(a[0,1] * a[1,0])\n",
    "\n",
    "if det != 0:\n",
    "    print(det, \"Matrix 'A' is a non-singular and **can** be inversed.\", sep = '\\n')\n",
    "else:\n",
    "    print(det, \"Matrix 'A' is singular  and **cannot** be inversed.\")"
   ]
  },
  {
   "cell_type": "markdown",
   "id": "4d17f2fd",
   "metadata": {},
   "source": [
    "Or, you can use NumPy's built in determinent function."
   ]
  },
  {
   "cell_type": "code",
   "execution_count": 3,
   "id": "43272ad0",
   "metadata": {
    "scrolled": true
   },
   "outputs": [
    {
     "name": "stdout",
     "output_type": "stream",
     "text": [
      "-0.5\n"
     ]
    }
   ],
   "source": [
    "print (np.linalg.det(a).astype('float32'))\n"
   ]
  },
  {
   "cell_type": "markdown",
   "id": "6bd21022",
   "metadata": {},
   "source": [
    "\n"
   ]
  },
  {
   "cell_type": "markdown",
   "id": "2992036c",
   "metadata": {},
   "source": [
    "### Inverse Matrix Properties"
   ]
  },
  {
   "cell_type": "markdown",
   "id": "8039d495",
   "metadata": {},
   "source": [
    "Now we know $ A $ can be inversed. Let's learn a little more about the properties of an inversed matrix.\n",
    "\n",
    "Notationally, our inverse matrix is:     \n",
    "\n",
    "$ A^{1} $\n",
    "\n",
    "* The product of $ AA^{1} = I $\n",
    "* $ A^{1}A = I $ is also true.\n",
    "* Order of magnitude does not matter. Switching position always returns $ I $\n",
    "\n",
    "$ I $ = Identity matrix\n",
    "\n",
    "Identity matrices value are nil, except those on the leading diaganol, which are 1. We will use these expressions as an evaluating method to test the trueness of inversion of $ A $ at the end."
   ]
  },
  {
   "cell_type": "code",
   "execution_count": 4,
   "id": "419e6a64",
   "metadata": {},
   "outputs": [
    {
     "name": "stdout",
     "output_type": "stream",
     "text": [
      "[[1. 0.]\n",
      " [0. 1.]]\n"
     ]
    }
   ],
   "source": [
    "#To satisfy your curiosity - NumPy can build a 2x2 identity  matrix.\n",
    "print(np.identity(2))"
   ]
  },
  {
   "cell_type": "markdown",
   "id": "439a90c6",
   "metadata": {},
   "source": [
    "### Inverting $ A $"
   ]
  },
  {
   "cell_type": "markdown",
   "id": "5dad1b1a",
   "metadata": {},
   "source": [
    "$ A^{1}= \\frac{1}{ad-bc} \\begin{vmatrix}\n",
    "d & -b\\\\\n",
    "-c & a\n",
    "\\end{vmatrix} $"
   ]
  },
  {
   "cell_type": "markdown",
   "id": "b85949a0",
   "metadata": {},
   "source": [
    "Above we see the expression for caluclating the inverse matrix. If you look closely you can see the values $ a $ and $ d $ have swapped positions, $ b, c $ have become negatives. A matrix with positions swapped and turned to negative is known as 'adjoint. Let's go ahead and adjoint matrix $ A $."
   ]
  },
  {
   "cell_type": "code",
   "execution_count": 5,
   "id": "38e24ad1",
   "metadata": {},
   "outputs": [
    {
     "name": "stdout",
     "output_type": "stream",
     "text": [
      "[[2.  0.5]\n",
      " [1.  0. ]]\n"
     ]
    }
   ],
   "source": [
    "#Reminder of Matrix A and value positions.\n",
    "print(a)"
   ]
  },
  {
   "cell_type": "code",
   "execution_count": 6,
   "id": "08ef2d3a",
   "metadata": {
    "scrolled": true
   },
   "outputs": [
    {
     "name": "stdout",
     "output_type": "stream",
     "text": [
      "[[ 0.  -0.5]\n",
      " [-1.   2. ]]\n"
     ]
    }
   ],
   "source": [
    "#we will need A for AA1 = I, so we will make a copy of A to position adjoint\n",
    "copy_a = np.copy(a)\n",
    "#Swap position a with d\n",
    "copy_a[0,0], copy_a[1,1] = copy_a[1,1], copy_a[0,0]\n",
    "#Convert positions b and c to negatives\n",
    "copy_a[0,1], copy_a[1,0] = -abs(copy_a[0,1]), -abs(copy_a[1,0])\n",
    "\n",
    "adj = copy_a\n",
    "print(adj)"
   ]
  },
  {
   "cell_type": "markdown",
   "id": "091eb7d5",
   "metadata": {},
   "source": [
    "To calculate $ A^{-1} $, we first solve the left side of the expression using the new adjoint matrix.\n",
    "\n",
    "Part 1: $ \\frac{1}{ad-bc} $"
   ]
  },
  {
   "cell_type": "code",
   "execution_count": 7,
   "id": "e7600d90",
   "metadata": {},
   "outputs": [
    {
     "data": {
      "text/plain": [
       "-2.0"
      ]
     },
     "execution_count": 7,
     "metadata": {},
     "output_type": "execute_result"
    }
   ],
   "source": [
    "top = 1\n",
    "bottom = (adj[0,0] * adj[1,1])-(adj[0,1] * adj[1,0])\n",
    "fraction = top / bottom\n",
    "fraction"
   ]
  },
  {
   "cell_type": "markdown",
   "id": "78e54ba7",
   "metadata": {},
   "source": [
    "Part 2: $ \\;-2 \\begin{pmatrix}\n",
    "0 & -0.5\\\\\n",
    "-1 & 2\n",
    "\\end{pmatrix} $"
   ]
  },
  {
   "cell_type": "code",
   "execution_count": 8,
   "id": "13c89eab",
   "metadata": {},
   "outputs": [
    {
     "name": "stdout",
     "output_type": "stream",
     "text": [
      "[[-0.  1.]\n",
      " [ 2. -4.]]\n"
     ]
    }
   ],
   "source": [
    "#Multiplying adjoint values by left side.\n",
    "a1 = adj * fraction\n",
    "print(a1)"
   ]
  },
  {
   "cell_type": "markdown",
   "id": "550f4714",
   "metadata": {},
   "source": [
    "### Checking Results"
   ]
  },
  {
   "cell_type": "markdown",
   "id": "41fb2d48",
   "metadata": {},
   "source": [
    "Great, we have $ A^{1} $, we can check its correct by using a built in inverse calcluation that would have done all this hard work for us...the output should be the same as a1."
   ]
  },
  {
   "cell_type": "code",
   "execution_count": 9,
   "id": "37bd7f5c",
   "metadata": {
    "scrolled": true
   },
   "outputs": [
    {
     "data": {
      "text/plain": [
       "array([[ 0.,  1.],\n",
       "       [ 2., -4.]])"
      ]
     },
     "execution_count": 9,
     "metadata": {},
     "output_type": "execute_result"
    }
   ],
   "source": [
    "#np method to calculare inverse. Looks good.\n",
    "np.linalg.inv(a)"
   ]
  },
  {
   "cell_type": "markdown",
   "id": "88eae672",
   "metadata": {},
   "source": [
    "We can further confirm our result holds up by applying the inverse matrix properties defined earlier:\n",
    "\n",
    "* The product of $ AA^{1} = I $\n",
    "* $ A^{1}A = I $\n",
    "* Order of magnitude does not matter. Switching position always returns $ I $\n",
    "\n",
    "Remember an identity matrix is filled with nils, apart from the leading diaganol which is populated with '1' values."
   ]
  },
  {
   "cell_type": "code",
   "execution_count": 10,
   "id": "c5706070",
   "metadata": {},
   "outputs": [
    {
     "data": {
      "text/plain": [
       "array([[1., 0.],\n",
       "       [0., 1.]])"
      ]
     },
     "execution_count": 10,
     "metadata": {},
     "output_type": "execute_result"
    }
   ],
   "source": [
    "#We can use an np method to calculate the product of two matrices\n",
    "np.matmul(a, a1)"
   ]
  },
  {
   "cell_type": "code",
   "execution_count": 11,
   "id": "91b14ea8",
   "metadata": {},
   "outputs": [
    {
     "data": {
      "text/plain": [
       "array([[1., 0.],\n",
       "       [0., 1.]])"
      ]
     },
     "execution_count": 11,
     "metadata": {},
     "output_type": "execute_result"
    }
   ],
   "source": [
    "#The same should be true inverse...\n",
    "#We can use an np method to calculate the product of two matrices\n",
    "np.matmul(a1, a)"
   ]
  },
  {
   "cell_type": "markdown",
   "id": "e2faee15",
   "metadata": {},
   "source": [
    "If you don't fancy computing matrix inverse, NumPy does indeed have you covered. However, I hope if you read through you now understand the working components behind inversing matricies."
   ]
  },
  {
   "cell_type": "code",
   "execution_count": 12,
   "id": "37bc00cf",
   "metadata": {},
   "outputs": [
    {
     "name": "stdout",
     "output_type": "stream",
     "text": [
      "[[ 0.  1.]\n",
      " [ 2. -4.]]\n"
     ]
    }
   ],
   "source": [
    "#np method to inverse matrix\n",
    "print(np.linalg.inv(a))"
   ]
  },
  {
   "cell_type": "markdown",
   "id": "20f055cb",
   "metadata": {},
   "source": [
    "# Acknowledgements\n",
    "\n",
    "The matrix determenent, adjoint and inverse expressions were learnt from this [Linear Algebra course](https://www.udemy.com/course/linear-algebra-for-beginners-matrices-and-vector-spaces)."
   ]
  }
 ],
 "metadata": {
  "kernelspec": {
   "display_name": "Python 3 (ipykernel)",
   "language": "python",
   "name": "python3"
  },
  "language_info": {
   "codemirror_mode": {
    "name": "ipython",
    "version": 3
   },
   "file_extension": ".py",
   "mimetype": "text/x-python",
   "name": "python",
   "nbconvert_exporter": "python",
   "pygments_lexer": "ipython3",
   "version": "3.9.7"
  }
 },
 "nbformat": 4,
 "nbformat_minor": 5
}
